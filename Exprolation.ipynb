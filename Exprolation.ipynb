{
 "cells": [
  {
   "cell_type": "markdown",
   "metadata": {
    "_uuid": "d6ecfd88769a50449210df177117ffd332f47c83",
    "_cell_guid": "426173e8-ed0b-4e6a-a029-f57f70e6832a"
   },
   "source": [
    "# Simple exploration of the Google Landmark Recognition Dataset"
   ]
  },
  {
   "cell_type": "code",
   "execution_count": 2,
   "metadata": {
    "_uuid": "62eda75d051afd61f5d50692ff40ae56d77d4845",
    "collapsed": true,
    "_cell_guid": "3f842ced-95ec-444b-9b59-2f88e606a934",
    "trusted": true
   },
   "outputs": [],
   "source": [
    "import pandas as pd\n",
    "from pathlib import Path\n",
    "import matplotlib.pyplot as plt\n",
    "import seaborn as sns"
   ]
  },
  {
   "cell_type": "code",
   "execution_count": 3,
   "metadata": {
    "_uuid": "e0c9b8be85e3a5783b7d031bc28314a0fb766bb9",
    "_cell_guid": "ed272952-cf2a-40b4-a605-9f9660681305",
    "trusted": true
   },
   "outputs": [
    {
     "data": {
      "text/html": [
       "<div>\n<style>\n    .dataframe thead tr:only-child th {\n        text-align: right;\n    }\n\n    .dataframe thead th {\n        text-align: left;\n    }\n\n    .dataframe tbody tr th {\n        vertical-align: top;\n    }\n</style>\n<table border=\"1\" class=\"dataframe\">\n  <thead>\n    <tr style=\"text-align: right;\">\n      <th></th>\n      <th>id</th>\n      <th>url</th>\n      <th>landmark_id</th>\n    </tr>\n  </thead>\n  <tbody>\n    <tr>\n      <th>0</th>\n      <td>cacf8152e2d2ae60</td>\n      <td>http://static.panoramio.com/photos/original/70...</td>\n      <td>4676</td>\n    </tr>\n    <tr>\n      <th>1</th>\n      <td>0a58358a2afd3e4e</td>\n      <td>http://lh6.ggpht.com/-igpT6wu0mIA/ROV8HnUuABI/...</td>\n      <td>6651</td>\n    </tr>\n    <tr>\n      <th>2</th>\n      <td>6b2bb500b6a38aa0</td>\n      <td>http://lh6.ggpht.com/-vKr5G5MEusk/SR6r6SJi6mI/...</td>\n      <td>11284</td>\n    </tr>\n    <tr>\n      <th>3</th>\n      <td>b399f09dee9c3c67</td>\n      <td>https://lh3.googleusercontent.com/-LOW2cjAqubA...</td>\n      <td>8429</td>\n    </tr>\n    <tr>\n      <th>4</th>\n      <td>19ace29d77a5be66</td>\n      <td>https://lh5.googleusercontent.com/-tnmSXwQcWL8...</td>\n      <td>6231</td>\n    </tr>\n  </tbody>\n</table>\n</div>"
      ],
      "text/plain": [
       "                 id                                                url  \\\n0  cacf8152e2d2ae60  http://static.panoramio.com/photos/original/70...   \n1  0a58358a2afd3e4e  http://lh6.ggpht.com/-igpT6wu0mIA/ROV8HnUuABI/...   \n2  6b2bb500b6a38aa0  http://lh6.ggpht.com/-vKr5G5MEusk/SR6r6SJi6mI/...   \n3  b399f09dee9c3c67  https://lh3.googleusercontent.com/-LOW2cjAqubA...   \n4  19ace29d77a5be66  https://lh5.googleusercontent.com/-tnmSXwQcWL8...   \n\n   landmark_id  \n0         4676  \n1         6651  \n2        11284  \n3         8429  \n4         6231  "
      ]
     },
     "execution_count": 3,
     "metadata": {},
     "output_type": "execute_result"
    }
   ],
   "source": [
    "# opening train/test csv files\n",
    "train = pd.read_csv('../input/train.csv')\n",
    "test = pd.read_csv('../input/test.csv')\n",
    "train.head(5)"
   ]
  },
  {
   "cell_type": "code",
   "execution_count": 4,
   "metadata": {
    "_uuid": "b3db26fdffb15950cb7f2ae512c5d36a06da1e0d",
    "_cell_guid": "79789747-30fa-4bf9-9790-c5883443fa96",
    "trusted": true
   },
   "outputs": [
    {
     "name": "stdout",
     "output_type": "stream",
     "text": [
      "Train shape : (1225029, 3)\nTest shape : (117703, 2)\n"
     ]
    }
   ],
   "source": [
    "# 10 for 1 ration\n",
    "print(f\"Train shape : {train.shape}\")\n",
    "print(f\"Test shape : {test.shape}\")"
   ]
  },
  {
   "cell_type": "code",
   "execution_count": 5,
   "metadata": {
    "_uuid": "33d86eb75c3abf44957a15d3903700a1069a4e4b",
    "_cell_guid": "ecb9aca0-0d6f-4c6c-81a9-6151aff276ad",
    "trusted": true,
    "collapsed": true
   },
   "outputs": [
    {
     "data": {
      "text/plain": [
       "id             1225029\nurl            1225029\nlandmark_id      14951\ndtype: int64"
      ]
     },
     "execution_count": 5,
     "metadata": {},
     "output_type": "execute_result"
    }
   ],
   "source": [
    "# Dataset organization\n",
    "train.nunique()"
   ]
  },
  {
   "cell_type": "markdown",
   "metadata": {
    "_uuid": "d4d136a8e0d4c7a03c2c2c0c5e4d356d474376ed",
    "_cell_guid": "1dfbc16f-30c7-495a-8149-a655172f7212"
   },
   "source": [
    "# Class distribution"
   ]
  },
  {
   "cell_type": "code",
   "execution_count": 6,
   "metadata": {
    "_uuid": "9b57bb387be9601a8f7c0e600f3be2acb2afb910",
    "_cell_guid": "17fbd9d8-ced8-4df2-a9df-5d3a9a4cc8b2",
    "trusted": true
   },
   "outputs": [
    {
     "data": {
      "image/png": "[encoded data removed]",
      "text/plain": [
       "<matplotlib.figure.Figure at 0x7f984748bcc0>"
      ]
     },
     "metadata": {},
     "output_type": "display_data"
    }
   ],
   "source": [
    "plt.figure(figsize = (8, 5))\n",
    "plt.title('Category Distribuition')\n",
    "sns.distplot(train['landmark_id'])\n",
    "\n",
    "plt.show()"
   ]
  },
  {
   "cell_type": "code",
   "execution_count": 8,
   "metadata": {
    "_uuid": "d6419d96f4ff7e0a0367ac1fbd6d922bfe063cf8",
    "_cell_guid": "c4b43066-06b6-4427-9349-4241ccf2c499",
    "trusted": true
   },
   "outputs": [
    {
     "name": "stdout",
     "output_type": "stream",
     "text": [
      "9633    50337\n6051    50148\n6599    23415\n9779    18471\n2061    13271\n5554    11147\n6651     9508\nName: landmark_id, dtype: int64\n-------------------------------------------\n6261    1\n4144    1\n1527    1\n6025    1\n4334    1\n5865    1\n8381    1\nName: landmark_id, dtype: int64\n"
     ]
    }
   ],
   "source": [
    "# Top categories\n",
    "print(train['landmark_id'].value_counts().head(7))\n",
    "\n",
    "print ('-------------------------------------------')\n",
    "# Bottom categories\n",
    "print(train['landmark_id'].value_counts().tail(7))"
   ]
  },
  {
   "cell_type": "code",
   "execution_count": 9,
   "metadata": {
    "_uuid": "a5eb02f61bedf8ce63b826dcb414625092b71cbb",
    "_cell_guid": "96a67583-b3c4-4b3f-8a8d-ace9ef1e0130",
    "trusted": true
   },
   "outputs": [
    {
     "name": "stdout",
     "output_type": "stream",
     "text": [
      "Median number : 14.0\nMean number : 81.93625844425122\n"
     ]
    }
   ],
   "source": [
    "print(f\"Median number : {train['landmark_id'].value_counts().median()}\")\n",
    "print(f\"Mean number : {train['landmark_id'].value_counts().mean()}\")"
   ]
  },
  {
   "cell_type": "code",
   "execution_count": 10,
   "metadata": {
    "_uuid": "1e0a3f17baaffc2986fa5beac59f56aefca45aef",
    "_cell_guid": "11f59c12-55b2-4d9e-b11c-22f5058de652",
    "trusted": true
   },
   "outputs": [
    {
     "data": {
      "text/plain": [
       "count    14951.000000\nmean        81.936258\nstd        707.234873\nmin          1.000000\n25%          6.000000\n50%         14.000000\n75%         46.000000\nmax      50337.000000\nName: landmark_id, dtype: float64"
      ]
     },
     "execution_count": 10,
     "metadata": {},
     "output_type": "execute_result"
    }
   ],
   "source": [
    "# More exhaustive description\n",
    "train['landmark_id'].value_counts().describe()"
   ]
  },
  {
   "cell_type": "code",
   "execution_count": 11,
   "metadata": {
    "_uuid": "383ca856db585ada2493c77d0d610e15975d4290",
    "_cell_guid": "32c565c8-7255-4910-9932-c157f4bb1791",
    "trusted": true
   },
   "outputs": [
    {
     "data": {
      "text/plain": [
       "'Number of classes under 10 occurences : 6559/14951'"
      ]
     },
     "execution_count": 11,
     "metadata": {},
     "output_type": "execute_result"
    }
   ],
   "source": [
    "f\"Number of classes under 10 occurences : {(train['landmark_id'].value_counts() <= 10).sum()}/{len(train['landmark_id'].unique())}\""
   ]
  },
  {
   "cell_type": "markdown",
   "metadata": {
    "_uuid": "144dad8469c32f0a0e21430181e35d3259712582",
    "_cell_guid": "4c457a22-2946-4a1e-b97c-ce80ca0dc5c1"
   },
   "source": [
    "So we have 14951 categories, 75% of them having less than 46 examples. An imbalanced fun"
   ]
  },
  {
   "cell_type": "markdown",
   "metadata": {
    "_uuid": "a09ecd033079f3518050df0c18e415cf205fefa7",
    "_cell_guid": "83e8b5b6-e9cd-47b5-8274-a56b34f6ea97"
   },
   "source": [
    "# Plotting examples for the most represented class : \nLet's look at some images and see how they differ :"
   ]
  },
  {
   "cell_type": "markdown",
   "metadata": {
    "_uuid": "c3f735d0e016457017a7fb3d25c697d8174f26ac",
    "_cell_guid": "52ae6ba9-5319-4166-9960-00097a7bd9b1"
   },
   "source": [
    "## St. Peter's Basilica"
   ]
  },
  {
   "cell_type": "code",
   "execution_count": 12,
   "metadata": {
    "_uuid": "01e6cd89996175e7aa4f4579c91b93defc6f26e4",
    "_cell_guid": "036fade6-fe21-42fa-a18a-4ad9d236a6f7",
    "trusted": true
   },
   "outputs": [
    {
     "data": {
      "text/html": [
       "<img style='width: 180px; margin: 0px; float: left; border: 1px solid black;' src='https://lh4.googleusercontent.com/-tMoBJaphC34/R-ghJ_EcGCI/AAAAAAAABiw/Ug4rnSzaW-g/s1600/' /><img style='width: 180px; margin: 0px; float: left; border: 1px solid black;' src='https://lh6.googleusercontent.com/-fgwgYyYZiVI/S7pIknPBHGI/AAAAAAAABtk/7ZV3HOh3jmA/s0-d/' /><img style='width: 180px; margin: 0px; float: left; border: 1px solid black;' src='https://lh6.googleusercontent.com/-Kz7iu1q0zs0/SloIJ2I8AVI/AAAAAAAAEJI/akeGnMSqM0k/s1600/' /><img style='width: 180px; margin: 0px; float: left; border: 1px solid black;' src='https://lh3.googleusercontent.com/-dSBgHo2ZvPY/R4GHBn8fOiI/AAAAAAAAHAI/beiqbpFBdQ4/s1600/' /><img style='width: 180px; margin: 0px; float: left; border: 1px solid black;' src='https://lh5.googleusercontent.com/-Mww2sF21QPs/RyCsE0Od4oI/AAAAAAAAA8o/gx2LpETjz5M/s1600/' /><img style='width: 180px; margin: 0px; float: left; border: 1px solid black;' src='http://lh4.ggpht.com/-1IXX3I0zB6A/S0JZGuRv6WI/AAAAAAAAA3A/wsFERp7eh1o/s1600/' /><img style='width: 180px; margin: 0px; float: left; border: 1px solid black;' src='https://lh6.googleusercontent.com/-S-UYSsIZMtk/S82859J5K0I/AAAAAAAAGOI/xqlYZE7Hxjo/rj/' /><img style='width: 180px; margin: 0px; float: left; border: 1px solid black;' src='https://lh5.googleusercontent.com/-AXDnUkrpf7Q/TwWX933UM5I/AAAAAAABnq8/SusL3oTFjIo/s1600/' /><img style='width: 180px; margin: 0px; float: left; border: 1px solid black;' src='http://static.panoramio.com/photos/original/64791644.jpg' /><img style='width: 180px; margin: 0px; float: left; border: 1px solid black;' src='https://lh5.googleusercontent.com/-7aWoYnKB2gU/Sir7WDMKIOI/AAAAAAAAAQ8/hOfZSax6_po/s1600/' /><img style='width: 180px; margin: 0px; float: left; border: 1px solid black;' src='http://mw2.google.com/mw-panoramio/photos/medium/18574938.jpg' /><img style='width: 180px; margin: 0px; float: left; border: 1px solid black;' src='http://lh3.ggpht.com/-9OgKrbNHU58/TGId51pF54I/AAAAAAAABbc/ONEuQx2YPYE/s1600/' />"
      ],
      "text/plain": [
       "<IPython.core.display.HTML object>"
      ]
     },
     "metadata": {},
     "output_type": "execute_result"
    }
   ],
   "source": [
    "from IPython.display import Image\n",
    "from IPython.core.display import HTML \n",
    "\n",
    "def display_category(urls, category_name):\n",
    "    img_style = \"width: 180px; margin: 0px; float: left; border: 1px solid black;\"\n",
    "    images_list = ''.join([f\"<img style='{img_style}' src='{u}' />\" for _, u in urls.head(12).iteritems()])\n",
    "\n",
    "    display(HTML(images_list))\n",
    "\n",
    "category = train['landmark_id'].value_counts().keys()[0]\n",
    "urls = train[train['landmark_id'] == category]['url']\n",
    "display_category(urls, \"\")\n",
    "    \n"
   ]
  },
  {
   "cell_type": "markdown",
   "metadata": {
    "_uuid": "df33c9ee7e22759e478b859614715b0ad5022e7e",
    "_cell_guid": "30a9818d-5e62-4c86-b2e6-b21db1b8a168"
   },
   "source": [
    "##  The Colosseum"
   ]
  },
  {
   "cell_type": "code",
   "execution_count": 13,
   "metadata": {
    "_uuid": "99a7b658aab050ff1fc2f2cbe83be34e40d61a28",
    "_cell_guid": "944499ca-614a-4fe0-9795-c4fe78984799",
    "trusted": true
   },
   "outputs": [
    {
     "data": {
      "text/html": [
       "<img style='width: 180px; margin: 0px; float: left; border: 1px solid black;' src='http://lh3.ggpht.com/-KXyELwqwp_Q/Ry-qmQAqwUI/AAAAAAAAAoU/SUt6osy86xk/s1600/' /><img style='width: 180px; margin: 0px; float: left; border: 1px solid black;' src='http://lh3.ggpht.com/-GtgCG7ZNNDw/TWWRUVMMpUI/AAAAAAAAC00/AUNX8bd957w/s1600/' /><img style='width: 180px; margin: 0px; float: left; border: 1px solid black;' src='http://lh6.ggpht.com/-Xc0B_C_xpfc/RsIor9h8-SI/AAAAAAAABK0/d6gJYx06eKI/s1600/' /><img style='width: 180px; margin: 0px; float: left; border: 1px solid black;' src='https://lh3.googleusercontent.com/-r7w0c7chrC8/TKvJKIyP-yI/AAAAAAAAAbE/G1GYmt5t-bg/s1600/' /><img style='width: 180px; margin: 0px; float: left; border: 1px solid black;' src='https://lh6.googleusercontent.com/-WWD-eozFRkU/THaxcSSu-BI/AAAAAAAANfQ/T4H7_pXuo0A/s1600/' /><img style='width: 180px; margin: 0px; float: left; border: 1px solid black;' src='https://lh6.googleusercontent.com/-tS_G0hIy5ZM/UET8pv2HO-I/AAAAAAAACbg/aafiTJOLbHY/s1600/' /><img style='width: 180px; margin: 0px; float: left; border: 1px solid black;' src='https://lh3.googleusercontent.com/-KY-7GtTdyFA/TCoXGPxA43I/AAAAAAAADXM/0AGVLHttPLM/s1600/' /><img style='width: 180px; margin: 0px; float: left; border: 1px solid black;' src='http://lh4.ggpht.com/-iRvdpDyW0tY/Tf3VuockwVI/AAAAAAAAFg0/Wwe9BLrErws/s1600/' /><img style='width: 180px; margin: 0px; float: left; border: 1px solid black;' src='http://lh4.ggpht.com/-jEA3kfsNXaE/SZDM8CJHrOI/AAAAAAAAIyk/ZrUd2HScqBA/s1600/' /><img style='width: 180px; margin: 0px; float: left; border: 1px solid black;' src='http://lh6.ggpht.com/-aYkjNY6AI_E/SAoS68XMFDI/AAAAAAAABGM/akbenfEDB6k/s1600/' /><img style='width: 180px; margin: 0px; float: left; border: 1px solid black;' src='http://lh3.ggpht.com/-7rfq6AL-v_0/Rs6sR4sZNeI/AAAAAAAAEbs/Ef3tfEhUPwQ/s1600/' /><img style='width: 180px; margin: 0px; float: left; border: 1px solid black;' src='http://lh3.ggpht.com/-GfETo5WQYaI/Rk8uLlHxGrI/AAAAAAAAAWA/l7b4jA26-iI/s1600/' />"
      ],
      "text/plain": [
       "<IPython.core.display.HTML object>"
      ]
     },
     "metadata": {},
     "output_type": "execute_result"
    }
   ],
   "source": [
    "category = train['landmark_id'].value_counts().keys()[1]\n",
    "urls = train[train['landmark_id'] == category]['url']\n",
    "display_category(urls, \"\")"
   ]
  },
  {
   "cell_type": "markdown",
   "metadata": {
    "_uuid": "ed13f56b7523b9cbc791e450f6696944d0d4f25c",
    "_cell_guid": "b0a0c7a7-bf66-4b6b-be52-58abca70277c"
   },
   "source": [
    "## Some place I should know..."
   ]
  },
  {
   "cell_type": "code",
   "execution_count": 14,
   "metadata": {
    "_uuid": "383bc576eda2610eab95787ebd00468ef0462441",
    "_cell_guid": "7ae26cba-3334-45fe-9753-631e3465bc66",
    "trusted": true
   },
   "outputs": [
    {
     "data": {
      "text/html": [
       "<img style='width: 180px; margin: 0px; float: left; border: 1px solid black;' src='https://lh4.googleusercontent.com/-FyOb5-Gcr0w/RtHTeFsqTmI/AAAAAAAAATQ/87SnhEf1qPs/rj/' /><img style='width: 180px; margin: 0px; float: left; border: 1px solid black;' src='https://lh3.googleusercontent.com/-5YMebjnziuE/S28CUIvPCtI/AAAAAAAAAYo/WvdsPdzKwek/s1600/' /><img style='width: 180px; margin: 0px; float: left; border: 1px solid black;' src='http://lh4.ggpht.com/-LAV-AsnT5qY/S2-yzeNvHWI/AAAAAAAAYLM/8nbulMps3-I/s1600/' /><img style='width: 180px; margin: 0px; float: left; border: 1px solid black;' src='https://lh5.googleusercontent.com/-1X_5_lAqZUk/RW5A_eGBABI/AAAAAAAABHs/iO72_sM2xZw/rj/' /><img style='width: 180px; margin: 0px; float: left; border: 1px solid black;' src='http://lh5.ggpht.com/-28OeI3FRQ6c/TdLLJ8TD_SI/AAAAAAAADlU/OwU2Nfbw7hY/s1600/' /><img style='width: 180px; margin: 0px; float: left; border: 1px solid black;' src='https://lh6.googleusercontent.com/-jubJXlwqtWA/SsBGBjSXLYI/AAAAAAAADjk/MO4NScnSmRU/s1600/' /><img style='width: 180px; margin: 0px; float: left; border: 1px solid black;' src='https://lh3.googleusercontent.com/-g-ish4mh-jQ/UHudx1wcs1I/AAAAAAAAALY/o_C4ePTN7Ww/s1600/' /><img style='width: 180px; margin: 0px; float: left; border: 1px solid black;' src='https://lh4.googleusercontent.com/-R12bnHNNPbM/R1npa5jnuXI/AAAAAAAABX4/BeVx_ObpVcI/rj/' /><img style='width: 180px; margin: 0px; float: left; border: 1px solid black;' src='http://lh6.ggpht.com/-yAO2-ESNYTw/Rn-nzgn4kfI/AAAAAAAABUg/wtYGcQzWw2E/s1600/' /><img style='width: 180px; margin: 0px; float: left; border: 1px solid black;' src='https://lh6.googleusercontent.com/-RT8KT74Icno/UJCIjQL8flI/AAAAAAAAADE/O5Jd9refdfs/s1600/' /><img style='width: 180px; margin: 0px; float: left; border: 1px solid black;' src='https://lh4.googleusercontent.com/-a_4TqV3hUPk/TDEiaZy1bGI/AAAAAAAAAq8/CDSknpMIh-Q/s1600/' /><img style='width: 180px; margin: 0px; float: left; border: 1px solid black;' src='https://lh4.googleusercontent.com/-zO-MmBFWmXI/SxKd908iooI/AAAAAAAAAKQ/bnOhIQBiYCw/s1600/' />"
      ],
      "text/plain": [
       "<IPython.core.display.HTML object>"
      ]
     },
     "metadata": {},
     "output_type": "execute_result"
    }
   ],
   "source": [
    "category = train['landmark_id'].value_counts().keys()[2]\n",
    "urls = train[train['landmark_id'] == category]['url']\n",
    "display_category(urls, \"\")"
   ]
  },
  {
   "cell_type": "markdown",
   "metadata": {
    "_uuid": "71242455ec22c2459dec590efe20dfd2d2e45b8d",
    "collapsed": true,
    "_cell_guid": "e835c2a5-c825-46fb-80a1-21c51d35abdf"
   },
   "source": [
    "Not much more to do at the moment, other than url analysis, as the dataset has to be downloaded and is not available on kaggle."
   ]
  },
  {
   "cell_type": "code",
   "execution_count": null,
   "metadata": {
    "_uuid": "45e3dac48020a7800312b04474ebe16f64f1c2a3",
    "collapsed": true,
    "_cell_guid": "99467934-9b32-4b56-b7a6-e790f630ae92",
    "trusted": false
   },
   "outputs": [],
   "source": [
    ""
   ]
  }
 ],
 "metadata": {
  "language_info": {
   "name": "python",
   "version": "3.6.4",
   "mimetype": "text/x-python",
   "codemirror_mode": {
    "name": "ipython",
    "version": 3
   },
   "pygments_lexer": "ipython3",
   "nbconvert_exporter": "python",
   "file_extension": ".py"
  },
  "kernelspec": {
   "display_name": "Python 3",
   "language": "python",
   "name": "python3"
  }
 },
 "nbformat": 4,
 "nbformat_minor": 1
}
